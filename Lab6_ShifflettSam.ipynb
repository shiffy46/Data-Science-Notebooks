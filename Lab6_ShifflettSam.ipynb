{
 "cells": [
  {
   "cell_type": "code",
   "execution_count": 16,
   "metadata": {},
   "outputs": [],
   "source": [
    "import pandas as pd"
   ]
  },
  {
   "cell_type": "code",
   "execution_count": 17,
   "metadata": {},
   "outputs": [],
   "source": [
    "continent_data = pd.read_csv('http://bit.ly/drinksbycountry')"
   ]
  },
  {
   "cell_type": "code",
   "execution_count": 177,
   "metadata": {
    "collapsed": true
   },
   "outputs": [
    {
     "name": "stdout",
     "output_type": "stream",
     "text": [
      "                  country  beer_servings  spirit_servings  wine_servings  \\\n",
      "0             Afghanistan              0                0              0   \n",
      "1                 Albania             89              132             54   \n",
      "2                 Algeria             25                0             14   \n",
      "3                 Andorra            245              138            312   \n",
      "4                  Angola            217               57             45   \n",
      "5       Antigua & Barbuda            102              128             45   \n",
      "6               Argentina            193               25            221   \n",
      "7                 Armenia             21              179             11   \n",
      "8               Australia            261               72            212   \n",
      "9                 Austria            279               75            191   \n",
      "10             Azerbaijan             21               46              5   \n",
      "11                Bahamas            122              176             51   \n",
      "12                Bahrain             42               63              7   \n",
      "13             Bangladesh              0                0              0   \n",
      "14               Barbados            143              173             36   \n",
      "15                Belarus            142              373             42   \n",
      "16                Belgium            295               84            212   \n",
      "17                 Belize            263              114              8   \n",
      "18                  Benin             34                4             13   \n",
      "19                 Bhutan             23                0              0   \n",
      "20                Bolivia            167               41              8   \n",
      "21     Bosnia-Herzegovina             76              173              8   \n",
      "22               Botswana            173               35             35   \n",
      "23                 Brazil            245              145             16   \n",
      "24                 Brunei             31                2              1   \n",
      "25               Bulgaria            231              252             94   \n",
      "26           Burkina Faso             25                7              7   \n",
      "27                Burundi             88                0              0   \n",
      "28          Cote d'Ivoire             37                1              7   \n",
      "29             Cabo Verde            144               56             16   \n",
      "..                    ...            ...              ...            ...   \n",
      "163              Suriname            128              178              7   \n",
      "164             Swaziland             90                2              2   \n",
      "165                Sweden            152               60            186   \n",
      "166           Switzerland            185              100            280   \n",
      "167                 Syria              5               35             16   \n",
      "168            Tajikistan              2               15              0   \n",
      "169              Thailand             99              258              1   \n",
      "170             Macedonia            106               27             86   \n",
      "171           Timor-Leste              1                1              4   \n",
      "172                  Togo             36                2             19   \n",
      "173                 Tonga             36               21              5   \n",
      "174     Trinidad & Tobago            197              156              7   \n",
      "175               Tunisia             51                3             20   \n",
      "176                Turkey             51               22              7   \n",
      "177          Turkmenistan             19               71             32   \n",
      "178                Tuvalu              6               41              9   \n",
      "179                Uganda             45                9              0   \n",
      "180               Ukraine            206              237             45   \n",
      "181  United Arab Emirates             16              135              5   \n",
      "182        United Kingdom            219              126            195   \n",
      "183              Tanzania             36                6              1   \n",
      "184                   USA            249              158             84   \n",
      "185               Uruguay            115               35            220   \n",
      "186            Uzbekistan             25              101              8   \n",
      "187               Vanuatu             21               18             11   \n",
      "188             Venezuela            333              100              3   \n",
      "189               Vietnam            111                2              1   \n",
      "190                 Yemen              6                0              0   \n",
      "191                Zambia             32               19              4   \n",
      "192              Zimbabwe             64               18              4   \n",
      "\n",
      "     total_litres_of_pure_alcohol      continent  \n",
      "0                             0.0           Asia  \n",
      "1                             4.9         Europe  \n",
      "2                             0.7         Africa  \n",
      "3                            12.4         Europe  \n",
      "4                             5.9         Africa  \n",
      "5                             4.9  North America  \n",
      "6                             8.3  South America  \n",
      "7                             3.8         Europe  \n",
      "8                            10.4        Oceania  \n",
      "9                             9.7         Europe  \n",
      "10                            1.3         Europe  \n",
      "11                            6.3  North America  \n",
      "12                            2.0           Asia  \n",
      "13                            0.0           Asia  \n",
      "14                            6.3  North America  \n",
      "15                           14.4         Europe  \n",
      "16                           10.5         Europe  \n",
      "17                            6.8  North America  \n",
      "18                            1.1         Africa  \n",
      "19                            0.4           Asia  \n",
      "20                            3.8  South America  \n",
      "21                            4.6         Europe  \n",
      "22                            5.4         Africa  \n",
      "23                            7.2  South America  \n",
      "24                            0.6           Asia  \n",
      "25                           10.3         Europe  \n",
      "26                            4.3         Africa  \n",
      "27                            6.3         Africa  \n",
      "28                            4.0         Africa  \n",
      "29                            4.0         Africa  \n",
      "..                            ...            ...  \n",
      "163                           5.6  South America  \n",
      "164                           4.7         Africa  \n",
      "165                           7.2         Europe  \n",
      "166                          10.2         Europe  \n",
      "167                           1.0           Asia  \n",
      "168                           0.3           Asia  \n",
      "169                           6.4           Asia  \n",
      "170                           3.9         Europe  \n",
      "171                           0.1           Asia  \n",
      "172                           1.3         Africa  \n",
      "173                           1.1        Oceania  \n",
      "174                           6.4  North America  \n",
      "175                           1.3         Africa  \n",
      "176                           1.4           Asia  \n",
      "177                           2.2           Asia  \n",
      "178                           1.0        Oceania  \n",
      "179                           8.3         Africa  \n",
      "180                           8.9         Europe  \n",
      "181                           2.8           Asia  \n",
      "182                          10.4         Europe  \n",
      "183                           5.7         Africa  \n",
      "184                           8.7  North America  \n",
      "185                           6.6  South America  \n",
      "186                           2.4           Asia  \n",
      "187                           0.9        Oceania  \n",
      "188                           7.7  South America  \n",
      "189                           2.0           Asia  \n",
      "190                           0.1           Asia  \n",
      "191                           2.5         Africa  \n",
      "192                           4.7         Africa  \n",
      "\n",
      "[193 rows x 6 columns]\n"
     ]
    }
   ],
   "source": [
    "print(continent_data)"
   ]
  },
  {
   "cell_type": "code",
   "execution_count": 148,
   "metadata": {
    "scrolled": true
   },
   "outputs": [
    {
     "data": {
      "text/plain": [
       "<matplotlib.axes._subplots.AxesSubplot at 0xd97abe0>"
      ]
     },
     "execution_count": 148,
     "metadata": {},
     "output_type": "execute_result"
    },
    {
     "data": {
      "image/png": "[encoded data removed]",
      "text/plain": [
       "<Figure size 432x288 with 1 Axes>"
      ]
     },
     "metadata": {},
     "output_type": "display_data"
    }
   ],
   "source": [
    "continent_data.groupby([\"continent\"]).mean().plot(kind='bar')"
   ]
  },
  {
   "cell_type": "code",
   "execution_count": 139,
   "metadata": {
    "scrolled": true
   },
   "outputs": [
    {
     "data": {
      "text/plain": [
       "<matplotlib.axes._subplots.AxesSubplot at 0x8e5f0f0>"
      ]
     },
     "execution_count": 139,
     "metadata": {},
     "output_type": "execute_result"
    },
    {
     "data": {
      "image/png": "[encoded data removed]",
      "text/plain": [
       "<Figure size 432x288 with 1 Axes>"
      ]
     },
     "metadata": {},
     "output_type": "display_data"
    }
   ],
   "source": [
    "continent_data.groupby([\"continent\"]).beer_servings.mean().plot(kind='bar')\n"
   ]
  },
  {
   "cell_type": "code",
   "execution_count": 209,
   "metadata": {},
   "outputs": [],
   "source": [
    "df3 = continent_data.groupby([\"continent\"])"
   ]
  },
  {
   "cell_type": "code",
   "execution_count": 234,
   "metadata": {
    "collapsed": true
   },
   "outputs": [
    {
     "name": "stdout",
     "output_type": "stream",
     "text": [
      "0      25\n",
      "1     217\n",
      "2      34\n",
      "3     173\n",
      "4      25\n",
      "5      88\n",
      "6      37\n",
      "7     144\n",
      "8     147\n",
      "9      17\n",
      "10     15\n",
      "11      1\n",
      "12     76\n",
      "13     32\n",
      "14     15\n",
      "15      6\n",
      "16     92\n",
      "17     18\n",
      "18     20\n",
      "19    347\n",
      "20      8\n",
      "21     31\n",
      "22      9\n",
      "23     28\n",
      "24     58\n",
      "25     82\n",
      "26     19\n",
      "27      0\n",
      "28     26\n",
      "29      8\n",
      "30      5\n",
      "31      0\n",
      "32     98\n",
      "33     12\n",
      "34     47\n",
      "35    376\n",
      "36      3\n",
      "37     42\n",
      "38     43\n",
      "39     56\n",
      "40      9\n",
      "41    157\n",
      "42     25\n",
      "43      0\n",
      "44    225\n",
      "45      8\n",
      "46     90\n",
      "47     36\n",
      "48     51\n",
      "49     45\n",
      "50     36\n",
      "51     32\n",
      "52     64\n",
      "Name: beer_servings, dtype: int64\n"
     ]
    }
   ],
   "source": [
    "A=continent_data.loc[continent_data['continent'] == 'Africa'].beer_servings\n",
    "A.index = range(len(A.index))\n",
    "print(A)"
   ]
  },
  {
   "cell_type": "code",
   "execution_count": 242,
   "metadata": {
    "collapsed": true
   },
   "outputs": [
    {
     "name": "stdout",
     "output_type": "stream",
     "text": [
      "    beer_servings\n",
      "0               0\n",
      "1              42\n",
      "2               0\n",
      "3              23\n",
      "4              31\n",
      "5              57\n",
      "6              79\n",
      "7               0\n",
      "8               9\n",
      "9               5\n",
      "10              0\n",
      "11              9\n",
      "12             63\n",
      "13             77\n",
      "14              6\n",
      "15            124\n",
      "16              0\n",
      "17             31\n",
      "18             62\n",
      "19             20\n",
      "20             13\n",
      "21              0\n",
      "22             77\n",
      "23              5\n",
      "24              5\n",
      "25             22\n",
      "26              0\n",
      "27             71\n",
      "28              1\n",
      "29            140\n",
      "30            247\n",
      "31              0\n",
      "32             60\n",
      "33             16\n",
      "34              5\n",
      "35              2\n",
      "36             99\n",
      "37              1\n",
      "38             51\n",
      "39             19\n",
      "40             16\n",
      "41             25\n",
      "42            111\n",
      "43              6\n"
     ]
    }
   ],
   "source": [
    "AS=pd.DataFrame(continent_data.loc[continent_data['continent'] == 'Asia'].beer_servings)\n",
    "AS.index = range(len(AS.index))\n",
    "print(AS)"
   ]
  },
  {
   "cell_type": "code",
   "execution_count": 232,
   "metadata": {
    "collapsed": true
   },
   "outputs": [
    {
     "name": "stdout",
     "output_type": "stream",
     "text": [
      "    beer_servings\n",
      "0              89\n",
      "1             245\n",
      "2              21\n",
      "3             279\n",
      "4              21\n",
      "5             142\n",
      "6             295\n",
      "7              76\n",
      "8             231\n",
      "9             230\n",
      "10            192\n",
      "11            361\n",
      "12            224\n",
      "13            224\n",
      "14            263\n",
      "15            127\n",
      "16             52\n",
      "17            346\n",
      "18            133\n",
      "19            234\n",
      "20            233\n",
      "21            313\n",
      "22             85\n",
      "23            281\n",
      "24            343\n",
      "25            236\n",
      "26            149\n",
      "27              0\n",
      "28             31\n",
      "29            251\n",
      "30            169\n",
      "31            343\n",
      "32            194\n",
      "33            109\n",
      "34            297\n",
      "35              0\n",
      "36            283\n",
      "37            196\n",
      "38            270\n",
      "39            284\n",
      "40            152\n",
      "41            185\n",
      "42            106\n",
      "43            206\n",
      "44            219\n"
     ]
    }
   ],
   "source": [
    "E=pd.DataFrame(continent_data.loc[continent_data['continent'] == 'Europe'].beer_servings)\n",
    "E.index = range(len(E.index))\n",
    "print(E)"
   ]
  },
  {
   "cell_type": "code",
   "execution_count": 236,
   "metadata": {
    "collapsed": true
   },
   "outputs": [
    {
     "name": "stdout",
     "output_type": "stream",
     "text": [
      "    beer_servings\n",
      "0             102\n",
      "1             122\n",
      "2             143\n",
      "3             263\n",
      "4             240\n",
      "5             149\n",
      "6              93\n",
      "7              52\n",
      "8             193\n",
      "9              52\n",
      "10            199\n",
      "11             53\n",
      "12              1\n",
      "13             69\n",
      "14             82\n",
      "15            238\n",
      "16             78\n",
      "17            285\n",
      "18            194\n",
      "19            171\n",
      "20            120\n",
      "21            197\n",
      "22            249\n"
     ]
    }
   ],
   "source": [
    "N=pd.DataFrame(continent_data.loc[continent_data['continent'] == 'North America'].beer_servings)\n",
    "N.index = range(len(N.index))\n",
    "print(N)"
   ]
  },
  {
   "cell_type": "code",
   "execution_count": 237,
   "metadata": {
    "collapsed": true
   },
   "outputs": [
    {
     "name": "stdout",
     "output_type": "stream",
     "text": [
      "    beer_servings\n",
      "0             261\n",
      "1               0\n",
      "2              77\n",
      "3              21\n",
      "4               0\n",
      "5              62\n",
      "6              49\n",
      "7             203\n",
      "8             188\n",
      "9             306\n",
      "10             44\n",
      "11            105\n",
      "12             56\n",
      "13             36\n",
      "14              6\n",
      "15             21\n"
     ]
    }
   ],
   "source": [
    "O=pd.DataFrame(continent_data.loc[continent_data['continent'] == 'Oceania'].beer_servings)\n",
    "O.index = range(len(O.index))\n",
    "print(O)"
   ]
  },
  {
   "cell_type": "code",
   "execution_count": 239,
   "metadata": {
    "collapsed": true
   },
   "outputs": [
    {
     "name": "stdout",
     "output_type": "stream",
     "text": [
      "    beer_servings\n",
      "0             193\n",
      "1             167\n",
      "2             245\n",
      "3             130\n",
      "4             159\n",
      "5             162\n",
      "6              93\n",
      "7             213\n",
      "8             163\n",
      "9             128\n",
      "10            115\n",
      "11            333\n"
     ]
    }
   ],
   "source": [
    "S=pd.DataFrame(continent_data.loc[continent_data['continent'] == 'South America'].beer_servings)\n",
    "S.index = range(len(S.index))\n",
    "print(S)"
   ]
  },
  {
   "cell_type": "code",
   "execution_count": 244,
   "metadata": {},
   "outputs": [],
   "source": [
    "df6 = pd.concat([A,AS,E,N,O,S], axis=1)"
   ]
  },
  {
   "cell_type": "code",
   "execution_count": 245,
   "metadata": {},
   "outputs": [
    {
     "data": {
      "text/plain": [
       "<matplotlib.axes._subplots.AxesSubplot at 0xf5e3320>"
      ]
     },
     "execution_count": 245,
     "metadata": {},
     "output_type": "execute_result"
    },
    {
     "data": {
      "image/png": "[encoded data removed]",
      "text/plain": [
       "<Figure size 432x288 with 1 Axes>"
      ]
     },
     "metadata": {},
     "output_type": "display_data"
    }
   ],
   "source": [
    "df6.plot.box()"
   ]
  },
  {
   "cell_type": "code",
   "execution_count": null,
   "metadata": {},
   "outputs": [],
   "source": []
  }
 ],
 "metadata": {
  "kernelspec": {
   "display_name": "Python 3",
   "language": "python",
   "name": "python3"
  },
  "language_info": {
   "codemirror_mode": {
    "name": "ipython",
    "version": 3
   },
   "file_extension": ".py",
   "mimetype": "text/x-python",
   "name": "python",
   "nbconvert_exporter": "python",
   "pygments_lexer": "ipython3",
   "version": "3.6.5"
  }
 },
 "nbformat": 4,
 "nbformat_minor": 2
}
