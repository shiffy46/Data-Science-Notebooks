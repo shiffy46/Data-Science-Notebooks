{
 "cells": [
  {
   "cell_type": "code",
   "execution_count": 66,
   "metadata": {},
   "outputs": [],
   "source": [
    "import pandas as pd\n",
    "import numpy as np\n",
    "import matplotlib.pyplot as plt\n",
    "%matplotlib inline\n",
    "from bokeh.io import show, output_notebook, output_file\n",
    "from bokeh.plotting import figure\n",
    "from bokeh.layouts import row"
   ]
  },
  {
   "cell_type": "code",
   "execution_count": 67,
   "metadata": {},
   "outputs": [],
   "source": [
    "#Get the data from the csv\n",
    "data = pd.read_csv(\"Lemonade2016-2.csv\")\n",
    "#create sales and revenue\n",
    "data['Sales'] = data['Lemon'] + data['Orange']\n",
    "data['Revenue'] = (data['Sales']*data['Price'])"
   ]
  },
  {
   "cell_type": "code",
   "execution_count": 68,
   "metadata": {},
   "outputs": [],
   "source": [
    "#establish a figure and plots the circles with the x and y value dictating the size,alpha,color,line color,line width)\n",
    "f = figure(title=\"Sales by Temperature. With Revenue as Circle Size\")\n",
    "f.circle(y=data['Sales'], x=data['Temperature'], size=(data['Revenue']/2), alpha=0.5, color=\"orange\", line_color='black', line_width=2)\n",
    "show(f)"
   ]
  },
  {
   "cell_type": "code",
   "execution_count": 69,
   "metadata": {},
   "outputs": [],
   "source": [
    "#create three plots and show them in ROW form\n",
    "s1 = figure(plot_width=250, plot_height=250, title=\"Revenue by Leaflets\")\n",
    "s1.scatter(data['Leaflets'], data['Revenue'], size=3, color=\"blue\")\n",
    "\n",
    "s2 = figure(plot_width=250, plot_height=250, title=\"Revenue by Sales\")\n",
    "s2.scatter(data['Sales'], data['Revenue'], size=3, color=\"green\")\n",
    "\n",
    "s3 = figure(plot_width=250, plot_height=250, title=\"Sales by Temperature\")\n",
    "s3.scatter(data['Temperature'], data['Sales'], size=3, fill_color=None, line_color=\"red\", line_width=2)\n",
    "                               \n",
    "show(row(s1, s2, s3))                               \n",
    "                               "
   ]
  },
  {
   "cell_type": "code",
   "execution_count": null,
   "metadata": {},
   "outputs": [],
   "source": []
  }
 ],
 "metadata": {
  "kernelspec": {
   "display_name": "Python 3",
   "language": "python",
   "name": "python3"
  },
  "language_info": {
   "codemirror_mode": {
    "name": "ipython",
    "version": 3
   },
   "file_extension": ".py",
   "mimetype": "text/x-python",
   "name": "python",
   "nbconvert_exporter": "python",
   "pygments_lexer": "ipython3",
   "version": "3.6.5"
  }
 },
 "nbformat": 4,
 "nbformat_minor": 2
}
