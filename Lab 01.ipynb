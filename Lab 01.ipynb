{
 "cells": [
  {
   "cell_type": "code",
   "execution_count": 2,
   "metadata": {},
   "outputs": [],
   "source": [
    "import matplotlib.pyplot as plt\n",
    "import pandas as pd\n",
    "low_memory = False"
   ]
  },
  {
   "cell_type": "code",
   "execution_count": 8,
   "metadata": {
    "scrolled": true
   },
   "outputs": [
    {
     "name": "stderr",
     "output_type": "stream",
     "text": [
      "C:\\Users\\Shiffy46\\Anaconda3\\DS201\\lib\\site-packages\\IPython\\core\\interactiveshell.py:2785: DtypeWarning: Columns (6,9,1608,1619,1620,1621,1622,1623,1624,1625,1626,1627,1628,1629,1688,1689,1690,1691,1692,1703,1704,1725,1726,1727,1728,1729,1743,1815,1816,1817,1818,1823,1824) have mixed types. Specify dtype option on import or set low_memory=False.\n",
      "  interactivity=interactivity, compiler=compiler, result=result)\n"
     ]
    }
   ],
   "source": [
    "file_data = pd.read_csv('Most-Recent-Cohorts-All-Data-Elements.csv')"
   ]
  },
  {
   "cell_type": "code",
   "execution_count": 9,
   "metadata": {},
   "outputs": [
    {
     "data": {
      "text/html": [
       "<div>\n",
       "<style scoped>\n",
       "    .dataframe tbody tr th:only-of-type {\n",
       "        vertical-align: middle;\n",
       "    }\n",
       "\n",
       "    .dataframe tbody tr th {\n",
       "        vertical-align: top;\n",
       "    }\n",
       "\n",
       "    .dataframe thead th {\n",
       "        text-align: right;\n",
       "    }\n",
       "</style>\n",
       "<table border=\"1\" class=\"dataframe\">\n",
       "  <thead>\n",
       "    <tr style=\"text-align: right;\">\n",
       "      <th></th>\n",
       "      <th>UNITID</th>\n",
       "      <th>OPEID</th>\n",
       "      <th>OPEID6</th>\n",
       "      <th>INSTNM</th>\n",
       "      <th>CITY</th>\n",
       "      <th>STABBR</th>\n",
       "      <th>ZIP</th>\n",
       "      <th>ACCREDAGENCY</th>\n",
       "      <th>INSTURL</th>\n",
       "      <th>NPCURL</th>\n",
       "      <th>...</th>\n",
       "      <th>RET_FT4_POOLED_SUPP</th>\n",
       "      <th>RET_FTL4_POOLED_SUPP</th>\n",
       "      <th>RET_PT4_POOLED_SUPP</th>\n",
       "      <th>RET_PTL4_POOLED_SUPP</th>\n",
       "      <th>TRANS_4_POOLED</th>\n",
       "      <th>TRANS_L4_POOLED</th>\n",
       "      <th>DTRANS_4_POOLED</th>\n",
       "      <th>DTRANS_L4_POOLED</th>\n",
       "      <th>TRANS_4_POOLED_SUPP</th>\n",
       "      <th>TRANS_L4_POOLED_SUPP</th>\n",
       "    </tr>\n",
       "  </thead>\n",
       "  <tbody>\n",
       "    <tr>\n",
       "      <th>0</th>\n",
       "      <td>100654</td>\n",
       "      <td>100200</td>\n",
       "      <td>1002</td>\n",
       "      <td>Alabama A &amp; M University</td>\n",
       "      <td>Normal</td>\n",
       "      <td>AL</td>\n",
       "      <td>35762</td>\n",
       "      <td>Southern Association of Colleges and Schools C...</td>\n",
       "      <td>www.aamu.edu/</td>\n",
       "      <td>www2.aamu.edu/scripts/netpricecalc/npcalc.htm</td>\n",
       "      <td>...</td>\n",
       "      <td>0.61638362831858</td>\n",
       "      <td>NaN</td>\n",
       "      <td>0.41664791666666</td>\n",
       "      <td>NaN</td>\n",
       "      <td>0.200384</td>\n",
       "      <td>NaN</td>\n",
       "      <td>2086.0</td>\n",
       "      <td>NaN</td>\n",
       "      <td>0.20038350910834</td>\n",
       "      <td>NaN</td>\n",
       "    </tr>\n",
       "    <tr>\n",
       "      <th>1</th>\n",
       "      <td>100663</td>\n",
       "      <td>105200</td>\n",
       "      <td>1052</td>\n",
       "      <td>University of Alabama at Birmingham</td>\n",
       "      <td>Birmingham</td>\n",
       "      <td>AL</td>\n",
       "      <td>35294-0110</td>\n",
       "      <td>Southern Association of Colleges and Schools C...</td>\n",
       "      <td>www.uab.edu</td>\n",
       "      <td>uab.studentaidcalculator.com/survey.aspx</td>\n",
       "      <td>...</td>\n",
       "      <td>0.80765744125326</td>\n",
       "      <td>NaN</td>\n",
       "      <td>0.58823529411764</td>\n",
       "      <td>NaN</td>\n",
       "      <td>0.241619</td>\n",
       "      <td>NaN</td>\n",
       "      <td>2740.0</td>\n",
       "      <td>NaN</td>\n",
       "      <td>0.24161927007299</td>\n",
       "      <td>NaN</td>\n",
       "    </tr>\n",
       "    <tr>\n",
       "      <th>2</th>\n",
       "      <td>100690</td>\n",
       "      <td>2503400</td>\n",
       "      <td>25034</td>\n",
       "      <td>Amridge University</td>\n",
       "      <td>Montgomery</td>\n",
       "      <td>AL</td>\n",
       "      <td>36117-3553</td>\n",
       "      <td>Southern Association of Colleges and Schools C...</td>\n",
       "      <td>www.amridgeuniversity.edu</td>\n",
       "      <td>www2.amridgeuniversity.edu:9091/</td>\n",
       "      <td>...</td>\n",
       "      <td>PrivacySuppressed</td>\n",
       "      <td>NaN</td>\n",
       "      <td>PrivacySuppressed</td>\n",
       "      <td>NaN</td>\n",
       "      <td>0.111111</td>\n",
       "      <td>NaN</td>\n",
       "      <td>18.0</td>\n",
       "      <td>NaN</td>\n",
       "      <td>PrivacySuppressed</td>\n",
       "      <td>NaN</td>\n",
       "    </tr>\n",
       "    <tr>\n",
       "      <th>3</th>\n",
       "      <td>100706</td>\n",
       "      <td>105500</td>\n",
       "      <td>1055</td>\n",
       "      <td>University of Alabama in Huntsville</td>\n",
       "      <td>Huntsville</td>\n",
       "      <td>AL</td>\n",
       "      <td>35899</td>\n",
       "      <td>Southern Association of Colleges and Schools C...</td>\n",
       "      <td>www.uah.edu</td>\n",
       "      <td>finaid.uah.edu/</td>\n",
       "      <td>...</td>\n",
       "      <td>0.78698579881656</td>\n",
       "      <td>NaN</td>\n",
       "      <td>0.50876842105263</td>\n",
       "      <td>NaN</td>\n",
       "      <td>0.332677</td>\n",
       "      <td>NaN</td>\n",
       "      <td>1539.0</td>\n",
       "      <td>NaN</td>\n",
       "      <td>0.33267738791423</td>\n",
       "      <td>NaN</td>\n",
       "    </tr>\n",
       "    <tr>\n",
       "      <th>4</th>\n",
       "      <td>100724</td>\n",
       "      <td>100500</td>\n",
       "      <td>1005</td>\n",
       "      <td>Alabama State University</td>\n",
       "      <td>Montgomery</td>\n",
       "      <td>AL</td>\n",
       "      <td>36104-0271</td>\n",
       "      <td>Southern Association of Colleges and Schools C...</td>\n",
       "      <td>www.alasu.edu</td>\n",
       "      <td>www.alasu.edu/cost-aid/forms/calculator/index....</td>\n",
       "      <td>...</td>\n",
       "      <td>0.58470804331013</td>\n",
       "      <td>NaN</td>\n",
       "      <td>0.43181818181818</td>\n",
       "      <td>NaN</td>\n",
       "      <td>0.000000</td>\n",
       "      <td>NaN</td>\n",
       "      <td>2539.0</td>\n",
       "      <td>NaN</td>\n",
       "      <td>0</td>\n",
       "      <td>NaN</td>\n",
       "    </tr>\n",
       "  </tbody>\n",
       "</table>\n",
       "<p>5 rows × 1825 columns</p>\n",
       "</div>"
      ],
      "text/plain": [
       "   UNITID    OPEID  OPEID6                               INSTNM        CITY  \\\n",
       "0  100654   100200    1002             Alabama A & M University      Normal   \n",
       "1  100663   105200    1052  University of Alabama at Birmingham  Birmingham   \n",
       "2  100690  2503400   25034                   Amridge University  Montgomery   \n",
       "3  100706   105500    1055  University of Alabama in Huntsville  Huntsville   \n",
       "4  100724   100500    1005             Alabama State University  Montgomery   \n",
       "\n",
       "  STABBR         ZIP                                       ACCREDAGENCY  \\\n",
       "0     AL       35762  Southern Association of Colleges and Schools C...   \n",
       "1     AL  35294-0110  Southern Association of Colleges and Schools C...   \n",
       "2     AL  36117-3553  Southern Association of Colleges and Schools C...   \n",
       "3     AL       35899  Southern Association of Colleges and Schools C...   \n",
       "4     AL  36104-0271  Southern Association of Colleges and Schools C...   \n",
       "\n",
       "                     INSTURL  \\\n",
       "0              www.aamu.edu/   \n",
       "1                www.uab.edu   \n",
       "2  www.amridgeuniversity.edu   \n",
       "3                www.uah.edu   \n",
       "4              www.alasu.edu   \n",
       "\n",
       "                                              NPCURL          ...           \\\n",
       "0      www2.aamu.edu/scripts/netpricecalc/npcalc.htm          ...            \n",
       "1           uab.studentaidcalculator.com/survey.aspx          ...            \n",
       "2                   www2.amridgeuniversity.edu:9091/          ...            \n",
       "3                                    finaid.uah.edu/          ...            \n",
       "4  www.alasu.edu/cost-aid/forms/calculator/index....          ...            \n",
       "\n",
       "   RET_FT4_POOLED_SUPP  RET_FTL4_POOLED_SUPP  RET_PT4_POOLED_SUPP  \\\n",
       "0     0.61638362831858                   NaN     0.41664791666666   \n",
       "1     0.80765744125326                   NaN     0.58823529411764   \n",
       "2    PrivacySuppressed                   NaN    PrivacySuppressed   \n",
       "3     0.78698579881656                   NaN     0.50876842105263   \n",
       "4     0.58470804331013                   NaN     0.43181818181818   \n",
       "\n",
       "   RET_PTL4_POOLED_SUPP  TRANS_4_POOLED  TRANS_L4_POOLED  DTRANS_4_POOLED  \\\n",
       "0                   NaN        0.200384              NaN           2086.0   \n",
       "1                   NaN        0.241619              NaN           2740.0   \n",
       "2                   NaN        0.111111              NaN             18.0   \n",
       "3                   NaN        0.332677              NaN           1539.0   \n",
       "4                   NaN        0.000000              NaN           2539.0   \n",
       "\n",
       "   DTRANS_L4_POOLED  TRANS_4_POOLED_SUPP  TRANS_L4_POOLED_SUPP  \n",
       "0               NaN     0.20038350910834                   NaN  \n",
       "1               NaN     0.24161927007299                   NaN  \n",
       "2               NaN    PrivacySuppressed                   NaN  \n",
       "3               NaN     0.33267738791423                   NaN  \n",
       "4               NaN                    0                   NaN  \n",
       "\n",
       "[5 rows x 1825 columns]"
      ]
     },
     "execution_count": 9,
     "metadata": {},
     "output_type": "execute_result"
    }
   ],
   "source": [
    "file_data.head()"
   ]
  },
  {
   "cell_type": "code",
   "execution_count": 11,
   "metadata": {},
   "outputs": [],
   "source": [
    "file = file_data.groupby(['STABBR']).size()"
   ]
  },
  {
   "cell_type": "code",
   "execution_count": 12,
   "metadata": {},
   "outputs": [
    {
     "data": {
      "text/plain": [
       "STABBR\n",
       "AK      9\n",
       "AL     96\n",
       "AR     92\n",
       "AS      1\n",
       "AZ    133\n",
       "dtype: int64"
      ]
     },
     "execution_count": 12,
     "metadata": {},
     "output_type": "execute_result"
    }
   ],
   "source": [
    "file.head()"
   ]
  },
  {
   "cell_type": "code",
   "execution_count": 13,
   "metadata": {},
   "outputs": [
    {
     "data": {
      "image/png": "[encoded data removed]",
      "text/plain": [
       "<Figure size 720x576 with 1 Axes>"
      ]
     },
     "metadata": {},
     "output_type": "display_data"
    }
   ],
   "source": [
    "ax = file.plot(kind='bar', title=\"No of Schools per state\", figsize=(10,8), legend=False, fontsize=8, sort_columns=True, color='b')\n",
    "ax.set_xlabel(\"State\", fontsize=8)\n",
    "ax.set_ylabel(\"No of Schools\", fontsize=8)\n",
    "plt.show()"
   ]
  },
  {
   "cell_type": "code",
   "execution_count": null,
   "metadata": {},
   "outputs": [],
   "source": []
  }
 ],
 "metadata": {
  "kernelspec": {
   "display_name": "Python 3",
   "language": "python",
   "name": "python3"
  },
  "language_info": {
   "codemirror_mode": {
    "name": "ipython",
    "version": 3
   },
   "file_extension": ".py",
   "mimetype": "text/x-python",
   "name": "python",
   "nbconvert_exporter": "python",
   "pygments_lexer": "ipython3",
   "version": "3.6.5"
  }
 },
 "nbformat": 4,
 "nbformat_minor": 2
}
